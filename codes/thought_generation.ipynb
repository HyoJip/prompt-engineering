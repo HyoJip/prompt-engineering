{
 "cells": [
  {
   "metadata": {
    "collapsed": true,
    "ExecuteTime": {
     "end_time": "2025-02-01T08:19:20.365224Z",
     "start_time": "2025-02-01T08:19:20.337566Z"
    }
   },
   "cell_type": "code",
   "outputs": [],
   "execution_count": 12,
   "source": [
    "import re\n",
    "from re import RegexFlag\n",
    "\n",
    "from dotenv import load_dotenv\n",
    "from anthropic import Anthropic\n",
    "\n",
    "import os\n",
    "\n",
    "\n",
    "load_dotenv(os.path.abspath(os.path.join(os.getcwd(), \"..\")))\n",
    "\n",
    "client = Anthropic(api_key=os.getenv(\"ANTHROPIC_API_KEY\"))\n",
    "\n",
    "\n",
    "def get_messages(prompt: str) -> str:\n",
    "    response = client.messages.create(\n",
    "        model=\"claude-3-5-sonnet-latest\",\n",
    "        messages=[\n",
    "            {\"role\": \"user\", \"content\": prompt}\n",
    "        ],\n",
    "        max_tokens=1024 * 4,\n",
    "        temperature=0\n",
    "    )\n",
    "    return response.content[0].text"
   ],
   "id": "initial_id"
  },
  {
   "metadata": {
    "ExecuteTime": {
     "end_time": "2025-02-01T08:19:23.484131Z",
     "start_time": "2025-02-01T08:19:23.479811Z"
    }
   },
   "cell_type": "code",
   "outputs": [],
   "execution_count": 13,
   "source": [
    "def generate_stepback_question(question: str):\n",
    "    prompt = f\"\"\"\n",
    "    당신은 물리학자입니다.\n",
    "\n",
    "    당신의 임무는 <question> 태그 안에 있는 질문을 보고\n",
    "    한 걸음 물러서서, 이 질문들의 본질적인 개념이나 원리를 추출하기 위한 추상적인 질문을 만드는 것입니다.\n",
    "    이러한 stepback question은 <result> 태그 안에 작성해주세요.\n",
    "\n",
    "    <question>\n",
    "    {question}\n",
    "    </question>\n",
    "\n",
    "    <example>\n",
    "    <question>\n",
    "    두 개의 전하가 10cm 떨어져 있을 때, 전기력의 크기는 얼마인가요?\n",
    "    </question>\n",
    "\n",
    "    <result>\n",
    "    전하 사이의 거리와 전기력의 크기 간의 상관관계를 설명하는 기본 법칙은 무엇인가요?\n",
    "    </result>\n",
    "    </example>\n",
    "    \"\"\"\n",
    "\n",
    "    response = get_messages(prompt)\n",
    "\n",
    "    return re.search(r\"<result>(.*?)</result>\", response, RegexFlag.DOTALL).group(1).strip()"
   ],
   "id": "44f6b99aa3608516"
  },
  {
   "metadata": {
    "ExecuteTime": {
     "end_time": "2025-02-01T08:19:31.490851Z",
     "start_time": "2025-02-01T08:19:25.867070Z"
    }
   },
   "cell_type": "code",
   "outputs": [
    {
     "name": "stdout",
     "output_type": "stream",
     "text": [
      "중력장 내에서 물체의 운동을 결정하는 기본 원리는 무엇이며, 초기 조건(높이)이 물체의 운동 시간에 어떤 영향을 미치나요?\n"
     ]
    }
   ],
   "execution_count": 14,
   "source": [
    "question = generate_stepback_question(\"\"\"\n",
    "높이 100m 높이에서 자유낙하시켰을 때, 물체가 땅에 닿는 시간은 얼마나 걸리나요?\n",
    "\"\"\")\n",
    "\n",
    "print(question)"
   ],
   "id": "f8cfd40947b04f7b"
  },
  {
   "metadata": {
    "ExecuteTime": {
     "end_time": "2025-02-01T08:23:24.658664Z",
     "start_time": "2025-02-01T08:23:18.125381Z"
    }
   },
   "cell_type": "code",
   "outputs": [
    {
     "data": {
      "text/plain": [
       "<IPython.core.display.Markdown object>"
      ],
      "text/markdown": "중력장 내 물체의 운동에 대해 상세히 설명해드리겠습니다.\n\n기본 원리:\n1. 뉴턴의 운동 법칙\n- F = ma (힘 = 질량 × 가속도)\n- 중력가속도 g = 9.8m/s²\n\n2. 등가속도 운동 공식\n- v = v₀ + at\n- s = v₀t + (1/2)at²\n- v² = v₀² + 2as\n\n초기 높이의 영향:\n1. 낙하 시간\n- t = √(2h/g)\n- 높이가 높을수록 낙하 시간 증가\n\n2. 속도 변화\n- 최종속도: v = √(2gh)\n- 높이가 높을수록 최종속도 증가\n\n주요 고려사항:\n1. 공기저항 무시 시\n- 질량과 무관한 동일 가속도\n- 이상적인 포물선 운동\n\n2. 공기저항 고려 시\n- 질량, 형상에 따른 차이\n- 종단속도 존재"
     },
     "metadata": {},
     "output_type": "display_data"
    }
   ],
   "execution_count": 19,
   "source": [
    "from IPython.core.display import Markdown\n",
    "\n",
    "\n",
    "def ask_stepback_question(stepback_question):\n",
    "    return get_messages(stepback_question)\n",
    "\n",
    "\n",
    "answer = ask_stepback_question(question)\n",
    "display(Markdown(answer))"
   ],
   "id": "db4822ea7fd0192"
  },
  {
   "metadata": {
    "ExecuteTime": {
     "end_time": "2025-02-01T08:48:36.221710Z",
     "start_time": "2025-02-01T08:48:36.213793Z"
    }
   },
   "cell_type": "code",
   "outputs": [],
   "execution_count": 28,
   "source": [
    "def generate_question_with_stepback(question: str):\n",
    "    stepback_question = generate_stepback_question(question)\n",
    "    stepback_answer = ask_stepback_question(stepback_question)\n",
    "\n",
    "    prompt = f\"\"\"\n",
    "    당신은 물리학자입니다.\n",
    "\n",
    "    아래의 <stepback_question>, <stepback_answer>태그를 먼저 읽고,\n",
    "    해당 고차원적인 개념과 원리를 토대로 <original_question> 태그 안에 있는 질문을 답변해주세요.\n",
    "\n",
    "    <stepback_question>\n",
    "    {stepback_question}\n",
    "    </stepback_question>\n",
    "\n",
    "    <stepback_answer>\n",
    "    {stepback_answer}\n",
    "    </stepback_answer>\n",
    "\n",
    "    <original_question>\n",
    "    {question}\n",
    "    </original_question>\n",
    "\n",
    "    최종 답변은 <result> 태그 안에 작성해주세요.\n",
    "    \"\"\"\n",
    "\n",
    "    messages = get_messages(prompt)\n",
    "    return re.search(r\"<result>(.*?)</result>\", messages, RegexFlag.DOTALL).group(1).strip()"
   ],
   "id": "a24e88cf9ded4cb2"
  },
  {
   "metadata": {
    "ExecuteTime": {
     "end_time": "2025-02-01T08:48:57.708624Z",
     "start_time": "2025-02-01T08:48:39.867562Z"
    }
   },
   "cell_type": "code",
   "outputs": [
    {
     "data": {
      "text/plain": [
       "<IPython.core.display.Markdown object>"
      ],
      "text/markdown": "이 문제를 단계별로 풀어보겠습니다.\n\n1. 각 선수의 이동 시간 계산\n- B의 이동 시간 = 거리 ÷ 속력\n  = 1km ÷ 2km/h = 0.5시간 = 30분 = 1800초\n\n- A의 이동 시간 = 거리 ÷ 속력\n  = 1km ÷ 5km/h = 0.2시간 = 12분 = 720초\n\n2. A가 이기기 위한 조건\n- (A의 출발 시간 + A의 이동 시간) < (B의 출발 시간 + B의 이동 시간)\n- (x + 720) < (0 + 1800)  [x는 A의 지연 출발 시간]\n- x < 1080\n\n따라서 A는 최대 1080초(18분)까지 늦게 출발해도 B보다 먼저 도착할 수 있습니다."
     },
     "metadata": {},
     "output_type": "display_data"
    }
   ],
   "execution_count": 29,
   "source": [
    "answer = generate_question_with_stepback(\"\"\"\n",
    "속력이 5km/h인 A와 속력이 2km/h B가 경주를 한다.\n",
    "느린 B를 배려해주기 위해, A가 B보다 늦게 출발한다고 한다.\n",
    "목적지까지의 거리가 1km인 경주일 때, A가 이기기 위해서는 최대 몇 초까지 늦게 출발해도 되는가?\n",
    "\"\"\")\n",
    "\n",
    "display(Markdown(answer))"
   ],
   "id": "dd9bce38f4522d8e"
  },
  {
   "metadata": {
    "ExecuteTime": {
     "end_time": "2025-02-01T09:02:07.434978Z",
     "start_time": "2025-02-01T09:02:04.499241Z"
    }
   },
   "cell_type": "code",
   "source": [
    "from sentence_transformers import SentenceTransformer\n",
    "from sklearn.cluster import KMeans\n",
    "import numpy as np\n",
    "\n",
    "NUM_CLUSTERS = 5\n",
    "model = SentenceTransformer(\"all-MiniLM-L6-v2\")\n",
    "\n",
    "\n",
    "def cluster_question_semantically(questions: list[str], num_clusters: list[int]):\n",
    "    embeddings = model.encode(questions)\n",
    "    kmeans = KMeans(n_clusters=num_clusters, random_state=42, n_init=10).fit(embeddings)\n",
    "\n",
    "    sorted_clusters = [[] for _ in range(num_clusters)]\n",
    "\n",
    "    for q, e, l in zip(questions, embeddings, kmeans.labels_):\n",
    "        centroid = kmeans.cluster_centers_[l]\n",
    "        distance = 1 - (np.dot(e, centroid) / (np.linalg.norm(e) * np.linalg.norm(centroid)))\n",
    "        sorted_clusters[l].append((q, distance))\n",
    "\n",
    "    for cluster in sorted_clusters:\n",
    "        cluster.sort(key=lambda x: x[1])\n",
    "\n",
    "    return sorted_clusters"
   ],
   "id": "d6cafa7fea0b01f9",
   "outputs": [],
   "execution_count": 31
  },
  {
   "metadata": {
    "ExecuteTime": {
     "end_time": "2025-02-01T09:09:16.130836Z",
     "start_time": "2025-02-01T09:09:14.109007Z"
    }
   },
   "cell_type": "code",
   "source": [
    "questions = [\n",
    "    ## 1️⃣ 역학 (Mechanics)\n",
    "    \"한 자동차가 시속 90 km로 똑바로 이동하고 있다. 2시간 후 자동차의 이동 거리는 몇 km인가?\",\n",
    "    \"높이 80 m에서 공을 떨어뜨렸다. 공이 땅에 도달하는 데 걸리는 시간은 얼마인가? (중력 가속도 \\( g = 9.8 \\,\\text{m/s}^2 \\))\",\n",
    "    ## 2️⃣ 전자기학 (Electromagnetism)\n",
    "    \"두 개의 전하 \\( q_1 = 2\\mu C \\), \\( q_2 = -3\\mu C \\) 가 10 cm 떨어져 있다. 이들 사이의 힘의 크기는? (\\( k = 9.0 \\times 10^9 \\,\\text{N·m}^2/\\text{C}^2 \\))\",\n",
    "    \"10Ω 저항에 2A의 전류가 흐를 때 전압은 얼마인가?\",\n",
    "    ## 3️⃣ 열역학 (Thermodynamics)\n",
    "    \"질량이 2kg인 물을 25°C에서 75°C까지 가열하려면 몇 J의 열이 필요한가?  (물의 비열 \\( c = 4184 \\,\\text{J/kg·°C} \\))\",\n",
    "    \"1.0 mol의 기체가 300K에서 1.0 atm의 압력을 받을 때 부피는 얼마인가?  (\\( R = 0.082 \\text{ L·atm/mol·K} \\))\",\n",
    "    ## 4️⃣ 파동 및 광학 (Waves & Optics)\n",
    "    \"기온이 20°C일 때 공기 중에서 소리의 속력은 약 343 m/s이다. 2초 동안 진행한 거리?\",\n",
    "    \"공기(굴절률 \\( n_1 = 1.00 \\))에서 물(굴절률 \\( n_2 = 1.33 \\))로 빛이 30° 각도로 입사할 때 굴절각은?  (스넬 법칙: \\( n_1 \\sin \\theta_1 = n_2 \\sin \\theta_2 \\))\",\n",
    "    ## 5️⃣ 상대성이론 (Relativity)\n",
    "    \"우주선이 빛의 속도의 80% (\\( v = 0.8c \\))로 움직일 때, 지구에서 본 우주선의 10초는 우주선 내부에서는 얼마나 걸리는가?  (로렌츠 인자 \\( \\gamma = \\frac{1}{\\sqrt{1 - v^2/c^2}} \\))\",\n",
    "    \"질량이 1g 감소하면 방출되는 에너지는?\",\n",
    "]\n",
    "\n",
    "clusters = cluster_question_semantically(questions, NUM_CLUSTERS)\n",
    "\n",
    "for i, c in enumerate(clusters):\n",
    "    print(f\"Cluster {i+1}:\")\n",
    "    for q, d in c:\n",
    "        print(f\"{q} ({d:.2f})\")\n",
    "    print()"
   ],
   "id": "2a85c4abad3da277",
   "outputs": [
    {
     "name": "stdout",
     "output_type": "stream",
     "text": [
      "Cluster 1:\n",
      "높이 80 m에서 공을 떨어뜨렸다. 공이 땅에 도달하는 데 걸리는 시간은 얼마인가? (중력 가속도 \\( g = 9.8 \\,\text{m/s}^2 \\)) (0.14)\n",
      "두 개의 전하 \\( q_1 = 2\\mu C \\), \\( q_2 = -3\\mu C \\) 가 10 cm 떨어져 있다. 이들 사이의 힘의 크기는? (\\( k = 9.0 \times 10^9 \\,\text{N·m}^2/\text{C}^2 \\)) (0.14)\n",
      "질량이 1g 감소하면 방출되는 에너지는? (0.15)\n",
      "\n",
      "Cluster 2:\n",
      "기온이 20°C일 때 공기 중에서 소리의 속력은 약 343 m/s이다. 2초 동안 진행한 거리? (0.12)\n",
      "한 자동차가 시속 90 km로 똑바로 이동하고 있다. 2시간 후 자동차의 이동 거리는 몇 km인가? (0.18)\n",
      "질량이 2kg인 물을 25°C에서 75°C까지 가열하려면 몇 J의 열이 필요한가?  (물의 비열 \\( c = 4184 \\,\text{J/kg·°C} \\)) (0.19)\n",
      "10Ω 저항에 2A의 전류가 흐를 때 전압은 얼마인가? (0.21)\n",
      "\n",
      "Cluster 3:\n",
      "공기(굴절률 \\( n_1 = 1.00 \\))에서 물(굴절률 \\( n_2 = 1.33 \\))로 빛이 30° 각도로 입사할 때 굴절각은?  (스넬 법칙: \\( n_1 \\sin \theta_1 = n_2 \\sin \theta_2 \\)) (0.00)\n",
      "\n",
      "Cluster 4:\n",
      "우주선이 빛의 속도의 80% (\\( v = 0.8c \\))로 움직일 때, 지구에서 본 우주선의 10초는 우주선 내부에서는 얼마나 걸리는가?  (로렌츠 인자 \\( \\gamma = \frac{1}{\\sqrt{1 - v^2/c^2}} \\)) (0.00)\n",
      "\n",
      "Cluster 5:\n",
      "1.0 mol의 기체가 300K에서 1.0 atm의 압력을 받을 때 부피는 얼마인가?  (\\( R = 0.082 \text{ L·atm/mol·K} \\)) (0.00)\n",
      "\n"
     ]
    },
    {
     "name": "stderr",
     "output_type": "stream",
     "text": [
      "huggingface/tokenizers: The current process just got forked, after parallelism has already been used. Disabling parallelism to avoid deadlocks...\n",
      "To disable this warning, you can either:\n",
      "\t- Avoid using `tokenizers` before the fork if possible\n",
      "\t- Explicitly set the environment variable TOKENIZERS_PARALLELISM=(true | false)\n"
     ]
    }
   ],
   "execution_count": 32
  },
  {
   "metadata": {
    "ExecuteTime": {
     "end_time": "2025-02-01T09:31:58.458186Z",
     "start_time": "2025-02-01T09:31:20.966357Z"
    }
   },
   "cell_type": "code",
   "source": [
    "def select_best_question(questions: list[str], num_clusters: list[int]):\n",
    "    clusters = cluster_question_semantically(questions, num_clusters)\n",
    "\n",
    "    best_questions = []\n",
    "    for i, c in enumerate(clusters):\n",
    "\n",
    "        prompt = f\"\"\"\n",
    "        당신은 물리학자입니다.\n",
    "\n",
    "        아래의 문제를 보고, 물리학 개념을 이해하고 문제를 해결하는 방법을 차근차근 단계별로 설명해주세요.\n",
    "\n",
    "        <question>\n",
    "        {c[0]}\n",
    "        </question>\n",
    "        \"\"\"\n",
    "\n",
    "        response = get_messages(prompt)\n",
    "        lines = response.count(\"\\n\")\n",
    "        print(f\"Cluster_{i+1} - Question: {c[0]} - Lines: {lines}\")\n",
    "        if lines > 25:\n",
    "            best_questions.append((c[0], response))\n",
    "            continue\n",
    "\n",
    "    return best_questions\n",
    "\n",
    "selected_question = select_best_question(questions, NUM_CLUSTERS)"
   ],
   "id": "a1894cd90794d4c8",
   "outputs": [
    {
     "name": "stdout",
     "output_type": "stream",
     "text": [
      "Cluster_1 - Question: ('높이 80 m에서 공을 떨어뜨렸다. 공이 땅에 도달하는 데 걸리는 시간은 얼마인가? (중력 가속도 \\\\( g = 9.8 \\\\,\\text{m/s}^2 \\\\))', np.float32(0.1381365)) - Lines: 29\n",
      "Cluster_2 - Question: ('기온이 20°C일 때 공기 중에서 소리의 속력은 약 343 m/s이다. 2초 동안 진행한 거리?', np.float32(0.11586785)) - Lines: 24\n",
      "Cluster_3 - Question: ('공기(굴절률 \\\\( n_1 = 1.00 \\\\))에서 물(굴절률 \\\\( n_2 = 1.33 \\\\))로 빛이 30° 각도로 입사할 때 굴절각은?  (스넬 법칙: \\\\( n_1 \\\\sin \\theta_1 = n_2 \\\\sin \\theta_2 \\\\))', np.float32(0.0)) - Lines: 26\n",
      "Cluster_4 - Question: ('우주선이 빛의 속도의 80% (\\\\( v = 0.8c \\\\))로 움직일 때, 지구에서 본 우주선의 10초는 우주선 내부에서는 얼마나 걸리는가?  (로렌츠 인자 \\\\( \\\\gamma = \\x0crac{1}{\\\\sqrt{1 - v^2/c^2}} \\\\))', np.float32(0.0)) - Lines: 27\n",
      "Cluster_5 - Question: ('1.0 mol의 기체가 300K에서 1.0 atm의 압력을 받을 때 부피는 얼마인가?  (\\\\( R = 0.082 \\text{ L·atm/mol·K} \\\\))', np.float32(0.0)) - Lines: 28\n"
     ]
    }
   ],
   "execution_count": 34
  },
  {
   "metadata": {
    "ExecuteTime": {
     "end_time": "2025-02-01T09:43:48.596717Z",
     "start_time": "2025-02-01T09:43:40.034073Z"
    }
   },
   "cell_type": "code",
   "source": [
    "def format_examples(selected_question):\n",
    "    formmated = []\n",
    "    \n",
    "    for q in enumerate(selected_question) :\n",
    "        formmated.append(f\"<example>\\n<question>\\n{q[1][0]}\\n</question>\\n<result>\\n{q[1][1]}\\n</result>\\n</example>\")\n",
    "\n",
    "    return \"\\n\\n\".join(formmated)\n",
    "        \n",
    "def get_response_with_autoCoT(question, selected_question):\n",
    "    prompt = f\"\"\"\n",
    "    당신은 물리학자입니다.\n",
    "    아래의 <examples> 태그 안에 작성된 예시를 참고해서\n",
    "    물리학적 개념을 이해하 문제를 해결하는 방법을 파악한 후\n",
    "    이를 토대로 <question> 태그 안의 질문에 대한 답변을 작성해주세요.\n",
    "\n",
    "    <examples>\n",
    "    {format_examples(selected_question)}\n",
    "    </examples>\n",
    "\n",
    "    <question>\n",
    "    {question}\n",
    "    </question>\n",
    "\n",
    "    답변은 <result> 태그 안에 작성해주세요.\n",
    "    \"\"\"\n",
    "\n",
    "    response = get_messages(prompt)\n",
    "    return re.search(r\"<result>(.*?)</result>\", response, RegexFlag.DOTALL).group(1).strip()\n",
    "\n",
    "\n",
    "result = get_response_with_autoCoT(\"반지를이 5m인 원형 트랙을 달리고 자동차의 구심 가속도는 얼마인가요? 자동차의 속력은 10m/s입니다.\", selected_question)\n",
    "print()\n"
   ],
   "id": "c93554b1167b1110",
   "outputs": [
    {
     "name": "stdout",
     "output_type": "stream",
     "text": [
      "이 문제를 원운동의 구심 가속도 개념을 이용하여 해결해보겠습니다.\n",
      "\n",
      "1) 문제 분석\n",
      "- 원형 트랙의 반지름(r) = 5m\n",
      "- 자동차의 속력(v) = 10m/s\n",
      "- 구해야 할 것: 구심 가속도(a)\n",
      "\n",
      "2) 사용할 공식\n",
      "- 구심 가속도 공식: a = v²/r\n",
      "  * 여기서 v는 속력, r은 원의 반지름\n",
      "  * 구심 가속도는 원운동하는 물체가 중심을 향해 받는 가속도입니다.\n",
      "\n",
      "3) 계산 과정\n",
      "- a = v²/r\n",
      "- a = (10 m/s)²/5m\n",
      "- a = 100/5\n",
      "- a = 20 m/s²\n",
      "\n",
      "4) 물리적 의미\n",
      "- 구심 가속도 20 m/s²는 자동차가 원운동을 유지하기 위해 중심방향으로 받는 가속도입니다.\n",
      "- 이 가속도는 자동차의 속도의 방향만 바꾸고 속력은 변화시키지 않습니다.\n",
      "- 이 가속도는 지구 중력가속도(약 9.8 m/s²)의 약 2배로, 상당히 큰 값입니다.\n",
      "\n",
      "따라서 자동차의 구심 가속도는 20 m/s²입니다.\n"
     ]
    }
   ],
   "execution_count": 35
  }
 ],
 "metadata": {
  "kernelspec": {
   "display_name": "Python 3",
   "language": "python",
   "name": "python3"
  },
  "language_info": {
   "codemirror_mode": {
    "name": "ipython",
    "version": 2
   },
   "file_extension": ".py",
   "mimetype": "text/x-python",
   "name": "python",
   "nbconvert_exporter": "python",
   "pygments_lexer": "ipython2",
   "version": "2.7.6"
  }
 },
 "nbformat": 4,
 "nbformat_minor": 5
}
